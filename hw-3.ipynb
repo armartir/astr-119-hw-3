{
 "cells": [
  {
   "cell_type": "code",
   "execution_count": null,
   "metadata": {},
   "outputs": [],
   "source": [
    "%matplotlib inline \n",
    "import numpy as np\n",
    "import matplotlib.pyplot as plt"
   ]
  },
  {
   "cell_type": "code",
   "execution_count": null,
   "metadata": {
    "scrolled": true
   },
   "outputs": [],
   "source": [
    "x = np.arange(0,2 * np.pi,0.006285) # create x=[0...2pi] in 0.1 increments\n",
    "ycos = 5.5 * np.cos(2 * x) + 5.5\n",
    "yexp = 0.02 * np.exp(x)\n",
    "ysin = .25 * (x * x) + .1 * np.sin(10 * x)\n",
    "plt.plot(x,ycos, label=\"y(x) = 5.5 * cos(2 * x) + 5.5\")  #make a plot\n",
    "plt.plot(x,yexp, label=(\"y(x) = .002 * exp(x)\"))  #make a plot\n",
    "plt.plot(x,ysin, label=(\"y(x) = .25 * (x^2) + 0.1*sin(10 * x)\"))  #make a plot\n",
    "plt.xlim([0,2*np.pi])\n",
    "plt.ylim([-1,10])\n",
    "plt.xlabel('Time in ASTR 119')   #label x axis\n",
    "plt.ylabel('Measures of Awesomeness') #label y axis\n",
    "plt.legend()\n",
    "plt.show()"
   ]
  }
 ],
 "metadata": {
  "kernelspec": {
   "display_name": "Python 3",
   "language": "python",
   "name": "python3"
  },
  "language_info": {
   "codemirror_mode": {
    "name": "ipython",
    "version": 3
   },
   "file_extension": ".py",
   "mimetype": "text/x-python",
   "name": "python",
   "nbconvert_exporter": "python",
   "pygments_lexer": "ipython3",
   "version": "3.8.5"
  }
 },
 "nbformat": 4,
 "nbformat_minor": 4
}
